{
 "cells": [
  {
   "cell_type": "markdown",
   "metadata": {},
   "source": [
    "## Данные\n",
    "\n",
    "Данные в [архиве](https://drive.google.com/file/d/15o7fdxTgndoy6K-e7g8g1M2-bOOwqZPl/view?usp=sharing). В нём два файла:\n",
    "- `news_train.txt` тестовое множество\n",
    "- `news_test.txt` тренировочное множество\n",
    "\n",
    "С некоторых новостных сайтов были загружены тексты новостей за период  несколько лет, причем каждая новость принаделжит к какой-то рубрике: `science`, `style`, `culture`, `life`, `economics`, `business`, `travel`, `forces`, `media`, `sport`.\n",
    "\n",
    "В каждой строке файла содержится метка рубрики, заголовок новостной статьи и сам текст статьи, например:\n",
    "\n",
    ">    **sport**&nbsp;&lt;tab&gt;&nbsp;**Сборная Канады по хоккею разгромила чехов**&nbsp;&lt;tab&gt;&nbsp;**Сборная Канады по хоккею крупно об...**"
   ]
  },
  {
   "cell_type": "markdown",
   "metadata": {},
   "source": [
    "# Задача\n",
    "\n",
    "1. Обработать данные, получив для каждого текста набор токенов\n",
    "Обработать токены с помощью (один вариант из трех):\n",
    "    - pymorphy2\n",
    "    - русского [snowball стеммера](https://www.nltk.org/howto/stem.html)\n",
    "    - [SentencePiece](https://github.com/google/sentencepiece) или [Huggingface Tokenizers](https://github.com/huggingface/tokenizers)\n",
    "    \n",
    "    \n",
    "2. Обучить word embeddings (fastText, word2vec, gloVe) на тренировочных данных. Можно использовать [gensim](https://radimrehurek.com/gensim/models/word2vec.html) . Продемонстрировать семантические ассоциации. \n",
    "\n",
    "3. Реализовать алгоритм классификации документа по категориям, посчитать точноть на тестовых данных, подобрать гиперпараметры. Метод векторизации выбрать произвольно - можно использовать $tf-idf$ с понижением размерности (см. scikit-learn), можно использовать обученные на предыдущем шаге векторные представления, можно использовать [предобученные модели](https://rusvectores.org/ru/models/). Имейте ввиду, что простое \"усреднение\" токенов в тексте скорее всего не даст положительных результатов. Нужно реализовать два алгоритмов из трех:\n",
    "     - SVM\n",
    "     - наивный байесовский классификатор\n",
    "     - логистическая регрессия\n",
    "    \n",
    "\n",
    "4.* Реализуйте классификацию с помощью нейросетевых моделей. Например [RuBERT](http://docs.deeppavlov.ai/en/master/features/models/bert.html) или [ELMo](https://rusvectores.org/ru/models/)."
   ]
  },
  {
   "cell_type": "markdown",
   "metadata": {},
   "source": [
    "# Решение\n",
    "\n",
    "### 1. Обработать данные, получить токены, обработать токены."
   ]
  },
  {
   "cell_type": "code",
   "execution_count": 1,
   "metadata": {},
   "outputs": [
    {
     "name": "stderr",
     "output_type": "stream",
     "text": [
      "[nltk_data] Downloading package punkt to\n",
      "[nltk_data]     C:\\Users\\crewd\\AppData\\Roaming\\nltk_data...\n",
      "[nltk_data]   Package punkt is already up-to-date!\n"
     ]
    },
    {
     "name": "stdout",
     "output_type": "stream",
     "text": [
      "Get tokens\n",
      "Analyse Tokens\n",
      "[Parse(word='s', tag=OpencorporaTag('LATN'), normal_form='s', score=1.0, methods_stack=((LatinAnalyzer(score=0.9), 's'),))]\n",
      "[Parse(word='p', tag=OpencorporaTag('LATN'), normal_form='p', score=1.0, methods_stack=((LatinAnalyzer(score=0.9), 'p'),))]\n",
      "[Parse(word='o', tag=OpencorporaTag('LATN'), normal_form='o', score=1.0, methods_stack=((LatinAnalyzer(score=0.9), 'o'),))]\n",
      "[Parse(word='r', tag=OpencorporaTag('LATN'), normal_form='r', score=1.0, methods_stack=((LatinAnalyzer(score=0.9), 'r'),))]\n",
      "[Parse(word='t', tag=OpencorporaTag('LATN'), normal_form='t', score=1.0, methods_stack=((LatinAnalyzer(score=0.9), 't'),))]\n",
      "[Parse(word='овечкин', tag=OpencorporaTag('NOUN,anim,masc,Sgtm,Surn sing,nomn'), normal_form='овечкин', score=1.0, methods_stack=((DictionaryAnalyzer(), 'овечкин', 37, 0),))]\n",
      "[Parse(word='пожертвовал', tag=OpencorporaTag('VERB,perf,tran masc,sing,past,indc'), normal_form='пожертвовать', score=1.0, methods_stack=((DictionaryAnalyzer(), 'пожертвовал', 748, 1),))]\n",
      "[Parse(word='детской', tag=OpencorporaTag('ADJF femn,sing,gent'), normal_form='детский', score=0.394736, methods_stack=((DictionaryAnalyzer(), 'детской', 16, 8),)), Parse(word='детской', tag=OpencorporaTag('ADJF femn,sing,loct'), normal_form='детский', score=0.263157, methods_stack=((DictionaryAnalyzer(), 'детской', 16, 13),)), Parse(word='детской', tag=OpencorporaTag('ADJF femn,sing,ablt'), normal_form='детский', score=0.131578, methods_stack=((DictionaryAnalyzer(), 'детской', 16, 11),)), Parse(word='детской', tag=OpencorporaTag('NOUN,inan,femn sing,gent'), normal_form='детская', score=0.078947, methods_stack=((DictionaryAnalyzer(), 'детской', 144, 1),)), Parse(word='детской', tag=OpencorporaTag('ADJF femn,sing,datv'), normal_form='детский', score=0.052631, methods_stack=((DictionaryAnalyzer(), 'детской', 16, 9),)), Parse(word='детской', tag=OpencorporaTag('NOUN,inan,femn sing,datv'), normal_form='детская', score=0.026315, methods_stack=((DictionaryAnalyzer(), 'детской', 144, 2),)), Parse(word='детской', tag=OpencorporaTag('NOUN,inan,femn sing,ablt'), normal_form='детская', score=0.026315, methods_stack=((DictionaryAnalyzer(), 'детской', 144, 4),)), Parse(word='детской', tag=OpencorporaTag('NOUN,inan,femn sing,loct'), normal_form='детская', score=0.026315, methods_stack=((DictionaryAnalyzer(), 'детской', 144, 6),))]\n",
      "[Parse(word='хоккейной', tag=OpencorporaTag('ADJF,Qual femn,sing,gent'), normal_form='хоккейный', score=0.636363, methods_stack=((DictionaryAnalyzer(), 'хоккейной', 97, 8),)), Parse(word='хоккейной', tag=OpencorporaTag('ADJF,Qual femn,sing,loct'), normal_form='хоккейный', score=0.181818, methods_stack=((DictionaryAnalyzer(), 'хоккейной', 97, 13),)), Parse(word='хоккейной', tag=OpencorporaTag('ADJF,Qual femn,sing,datv'), normal_form='хоккейный', score=0.090909, methods_stack=((DictionaryAnalyzer(), 'хоккейной', 97, 9),)), Parse(word='хоккейной', tag=OpencorporaTag('ADJF,Qual femn,sing,ablt'), normal_form='хоккейный', score=0.090909, methods_stack=((DictionaryAnalyzer(), 'хоккейной', 97, 11),))]\n",
      "[Parse(word='школе', tag=OpencorporaTag('NOUN,inan,femn sing,loct'), normal_form='школа', score=0.875, methods_stack=((DictionaryAnalyzer(), 'школе', 55, 6),)), Parse(word='школе', tag=OpencorporaTag('NOUN,inan,femn sing,datv'), normal_form='школа', score=0.125, methods_stack=((DictionaryAnalyzer(), 'школе', 55, 2),))]\n",
      "[Parse(word='автомобиль', tag=OpencorporaTag('NOUN,inan,masc sing,nomn'), normal_form='автомобиль', score=0.571428, methods_stack=((DictionaryAnalyzer(), 'автомобиль', 92, 0),)), Parse(word='автомобиль', tag=OpencorporaTag('NOUN,inan,masc sing,accs'), normal_form='автомобиль', score=0.428571, methods_stack=((DictionaryAnalyzer(), 'автомобиль', 92, 3),))]\n"
     ]
    }
   ],
   "source": [
    "import pymorphy2\n",
    "import nltk\n",
    "from nltk.tokenize import word_tokenize\n",
    "\n",
    "nltk.download('punkt')\n",
    "\n",
    "data = []\n",
    "morph = pymorphy2.MorphAnalyzer()\n",
    "\n",
    "# Read Text\n",
    "with open(\"data/news_train.txt\", 'r', encoding='utf-8') as f:\n",
    "    lines = f.readlines()\n",
    "    for line in lines:\n",
    "        vec = []\n",
    "        category, topic, content = line.split(\"\\t\")\n",
    "        vec.append(category)\n",
    "        vec.append(topic)\n",
    "        vec.append(content)\n",
    "        data.append(vec)\n",
    "\n",
    "# Tokenize\n",
    "\n",
    "print(\"Get tokens\")\n",
    "\n",
    "data_tokens = []\n",
    "\n",
    "for vec in data:\n",
    "    vec_tokenize = [vec[0]]\n",
    "    vec_tokenize.append(word_tokenize(vec[1]))\n",
    "    vec_tokenize.append(word_tokenize(vec[2]))\n",
    "    data_tokens.append(vec_tokenize)\n",
    "\n",
    "# Process tokens\n",
    "\n",
    "counter = 0\n",
    "\n",
    "print(\"Analyse Tokens\")\n",
    "\n",
    "for vec in data_tokens:\n",
    "    for tokens in vec:\n",
    "        for token in tokens:\n",
    "            print(morph.parse(token))\n",
    "            counter += 1\n",
    "            if counter > 10:\n",
    "                break\n",
    "        if counter > 10:\n",
    "            break\n",
    "    if counter > 10:\n",
    "        break\n"
   ]
  },
  {
   "cell_type": "markdown",
   "metadata": {},
   "source": [
    "### 2. Применить word2vec"
   ]
  },
  {
   "cell_type": "code",
   "execution_count": null,
   "metadata": {},
   "outputs": [],
   "source": []
  }
 ],
 "metadata": {
  "kernelspec": {
   "display_name": "Python 3 (ipykernel)",
   "language": "python",
   "name": "python3"
  },
  "language_info": {
   "codemirror_mode": {
    "name": "ipython",
    "version": 3
   },
   "file_extension": ".py",
   "mimetype": "text/x-python",
   "name": "python",
   "nbconvert_exporter": "python",
   "pygments_lexer": "ipython3",
   "version": "3.7.0"
  }
 },
 "nbformat": 4,
 "nbformat_minor": 4
}
